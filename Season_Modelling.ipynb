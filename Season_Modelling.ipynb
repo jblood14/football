{
 "cells": [
  {
   "cell_type": "markdown",
   "metadata": {},
   "source": [
    "# Predicting the outcome of the 2017/2018 Premier League"
   ]
  },
  {
   "cell_type": "markdown",
   "metadata": {},
   "source": [
    "The English Premier League (PL) is one of the most popular sporting leagues in the world. If we could predict the outcome of the league at the beginning of the year, then we would be able to make a considerable amount of money. At the time of writing, we are 10 games into the season and Manchester City look to be the clear favourites to lift the trophy. But I am not content with this layman's analysis. I want to know just how comfortably they should win the title, or whether some upstart team will wrest it from their grasp (Come on, Liverpool!). \n",
    "\n",
    "This is very much a work in progress and I am going to try to build on it as the season progresses, but I will publish it on my github as I go so that any eagle-eyed observers can spot my mistakes or give suggestions for improvements. I will guide the reader through my working as I go along, but this is not a substitute for a maths class. You will need to know basic maths to fully understand what's going on.\n",
    "\n",
    "#### This version is being written after round 10 of the Premier League Season.\n",
    "\n",
    "#### If you would like to contact me, please reach out on twitter (@jamesblood)\n",
    "\n",
    "\n",
    "\n",
    "Before I do anything, I will need to import some libraries to work with the data, perform calculations, and visualise what we have. I'll start by loading numpy, pandas, matplotlib, and seaborn"
   ]
  },
  {
   "cell_type": "code",
   "execution_count": 1,
   "metadata": {
    "ExecuteTime": {
     "end_time": "2017-11-02T21:50:07.923962Z",
     "start_time": "2017-11-02T21:50:05.279787Z"
    },
    "collapsed": true
   },
   "outputs": [],
   "source": [
    "#Working with the data\n",
    "import pandas as pd\n",
    "import numpy as np\n",
    "\n",
    "#Visualising\n",
    "import matplotlib.pyplot as plt\n",
    "import seaborn as sns\n",
    "\n",
    "#Images in Notebook\n",
    "from IPython.display import Image"
   ]
  },
  {
   "cell_type": "markdown",
   "metadata": {},
   "source": [
    "### Loading data and some simple extractions\n",
    "\n",
    "I have a csv file with the goals scored and conceded by each team both home and away, and their current points"
   ]
  },
  {
   "cell_type": "code",
   "execution_count": 2,
   "metadata": {
    "ExecuteTime": {
     "end_time": "2017-11-02T21:50:07.976259Z",
     "start_time": "2017-11-02T21:50:07.950189Z"
    },
    "collapsed": false
   },
   "outputs": [
    {
     "data": {
      "text/html": [
       "<div>\n",
       "<style>\n",
       "    .dataframe thead tr:only-child th {\n",
       "        text-align: right;\n",
       "    }\n",
       "\n",
       "    .dataframe thead th {\n",
       "        text-align: left;\n",
       "    }\n",
       "\n",
       "    .dataframe tbody tr th {\n",
       "        vertical-align: top;\n",
       "    }\n",
       "</style>\n",
       "<table border=\"1\" class=\"dataframe\">\n",
       "  <thead>\n",
       "    <tr style=\"text-align: right;\">\n",
       "      <th></th>\n",
       "      <th>Team</th>\n",
       "      <th>Home For</th>\n",
       "      <th>Home Against</th>\n",
       "      <th>Away For</th>\n",
       "      <th>Away Against</th>\n",
       "      <th>Home Games</th>\n",
       "      <th>Away Games</th>\n",
       "      <th>Points</th>\n",
       "    </tr>\n",
       "  </thead>\n",
       "  <tbody>\n",
       "    <tr>\n",
       "      <th>0</th>\n",
       "      <td>Manchester United</td>\n",
       "      <td>15</td>\n",
       "      <td>0</td>\n",
       "      <td>8</td>\n",
       "      <td>4</td>\n",
       "      <td>5</td>\n",
       "      <td>5</td>\n",
       "      <td>23</td>\n",
       "    </tr>\n",
       "    <tr>\n",
       "      <th>1</th>\n",
       "      <td>Manchester City</td>\n",
       "      <td>21</td>\n",
       "      <td>3</td>\n",
       "      <td>14</td>\n",
       "      <td>3</td>\n",
       "      <td>5</td>\n",
       "      <td>5</td>\n",
       "      <td>28</td>\n",
       "    </tr>\n",
       "    <tr>\n",
       "      <th>2</th>\n",
       "      <td>Arsenal</td>\n",
       "      <td>13</td>\n",
       "      <td>4</td>\n",
       "      <td>6</td>\n",
       "      <td>9</td>\n",
       "      <td>5</td>\n",
       "      <td>5</td>\n",
       "      <td>19</td>\n",
       "    </tr>\n",
       "    <tr>\n",
       "      <th>3</th>\n",
       "      <td>Liverpool</td>\n",
       "      <td>9</td>\n",
       "      <td>1</td>\n",
       "      <td>8</td>\n",
       "      <td>15</td>\n",
       "      <td>5</td>\n",
       "      <td>5</td>\n",
       "      <td>16</td>\n",
       "    </tr>\n",
       "    <tr>\n",
       "      <th>4</th>\n",
       "      <td>Brighton</td>\n",
       "      <td>6</td>\n",
       "      <td>5</td>\n",
       "      <td>4</td>\n",
       "      <td>6</td>\n",
       "      <td>5</td>\n",
       "      <td>5</td>\n",
       "      <td>12</td>\n",
       "    </tr>\n",
       "  </tbody>\n",
       "</table>\n",
       "</div>"
      ],
      "text/plain": [
       "                Team  Home For  Home Against  Away For  Away Against  \\\n",
       "0  Manchester United        15             0         8             4   \n",
       "1    Manchester City        21             3        14             3   \n",
       "2            Arsenal        13             4         6             9   \n",
       "3          Liverpool         9             1         8            15   \n",
       "4           Brighton         6             5         4             6   \n",
       "\n",
       "   Home Games  Away Games  Points  \n",
       "0           5           5      23  \n",
       "1           5           5      28  \n",
       "2           5           5      19  \n",
       "3           5           5      16  \n",
       "4           5           5      12  "
      ]
     },
     "execution_count": 2,
     "metadata": {},
     "output_type": "execute_result"
    }
   ],
   "source": [
    "df = pd.read_csv('17_18_PL_10_games.csv')\n",
    "df.head()"
   ]
  },
  {
   "cell_type": "markdown",
   "metadata": {},
   "source": [
    "Already we can see that the table isn't sorted by points and so to satisfy my OCD, we should fix that and reindex, starting from 1 (most football league tables aren't zero-indexed)."
   ]
  },
  {
   "cell_type": "code",
   "execution_count": 3,
   "metadata": {
    "ExecuteTime": {
     "end_time": "2017-11-02T21:50:08.043029Z",
     "start_time": "2017-11-02T21:50:08.018728Z"
    },
    "collapsed": false
   },
   "outputs": [
    {
     "data": {
      "text/html": [
       "<div>\n",
       "<style>\n",
       "    .dataframe thead tr:only-child th {\n",
       "        text-align: right;\n",
       "    }\n",
       "\n",
       "    .dataframe thead th {\n",
       "        text-align: left;\n",
       "    }\n",
       "\n",
       "    .dataframe tbody tr th {\n",
       "        vertical-align: top;\n",
       "    }\n",
       "</style>\n",
       "<table border=\"1\" class=\"dataframe\">\n",
       "  <thead>\n",
       "    <tr style=\"text-align: right;\">\n",
       "      <th></th>\n",
       "      <th>Team</th>\n",
       "      <th>Home For</th>\n",
       "      <th>Home Against</th>\n",
       "      <th>Away For</th>\n",
       "      <th>Away Against</th>\n",
       "      <th>Home Games</th>\n",
       "      <th>Away Games</th>\n",
       "      <th>Points</th>\n",
       "    </tr>\n",
       "  </thead>\n",
       "  <tbody>\n",
       "    <tr>\n",
       "      <th>1</th>\n",
       "      <td>Manchester City</td>\n",
       "      <td>21</td>\n",
       "      <td>3</td>\n",
       "      <td>14</td>\n",
       "      <td>3</td>\n",
       "      <td>5</td>\n",
       "      <td>5</td>\n",
       "      <td>28</td>\n",
       "    </tr>\n",
       "    <tr>\n",
       "      <th>2</th>\n",
       "      <td>Manchester United</td>\n",
       "      <td>15</td>\n",
       "      <td>0</td>\n",
       "      <td>8</td>\n",
       "      <td>4</td>\n",
       "      <td>5</td>\n",
       "      <td>5</td>\n",
       "      <td>23</td>\n",
       "    </tr>\n",
       "    <tr>\n",
       "      <th>3</th>\n",
       "      <td>Tottenham</td>\n",
       "      <td>7</td>\n",
       "      <td>4</td>\n",
       "      <td>12</td>\n",
       "      <td>3</td>\n",
       "      <td>5</td>\n",
       "      <td>5</td>\n",
       "      <td>20</td>\n",
       "    </tr>\n",
       "    <tr>\n",
       "      <th>4</th>\n",
       "      <td>Chelsea</td>\n",
       "      <td>8</td>\n",
       "      <td>6</td>\n",
       "      <td>10</td>\n",
       "      <td>4</td>\n",
       "      <td>5</td>\n",
       "      <td>5</td>\n",
       "      <td>19</td>\n",
       "    </tr>\n",
       "    <tr>\n",
       "      <th>5</th>\n",
       "      <td>Arsenal</td>\n",
       "      <td>13</td>\n",
       "      <td>4</td>\n",
       "      <td>6</td>\n",
       "      <td>9</td>\n",
       "      <td>5</td>\n",
       "      <td>5</td>\n",
       "      <td>19</td>\n",
       "    </tr>\n",
       "  </tbody>\n",
       "</table>\n",
       "</div>"
      ],
      "text/plain": [
       "                Team  Home For  Home Against  Away For  Away Against  \\\n",
       "1    Manchester City        21             3        14             3   \n",
       "2  Manchester United        15             0         8             4   \n",
       "3          Tottenham         7             4        12             3   \n",
       "4            Chelsea         8             6        10             4   \n",
       "5            Arsenal        13             4         6             9   \n",
       "\n",
       "   Home Games  Away Games  Points  \n",
       "1           5           5      28  \n",
       "2           5           5      23  \n",
       "3           5           5      20  \n",
       "4           5           5      19  \n",
       "5           5           5      19  "
      ]
     },
     "execution_count": 3,
     "metadata": {},
     "output_type": "execute_result"
    }
   ],
   "source": [
    "df = df.sort_values('Points',ascending=False)\n",
    "df.index = np.arange(1, len(df)+1)\n",
    "df.head()"
   ]
  },
  {
   "cell_type": "markdown",
   "metadata": {},
   "source": [
    "How about looking at the description of this to see if anything obvious strikes us, or if any data is missing."
   ]
  },
  {
   "cell_type": "code",
   "execution_count": 4,
   "metadata": {
    "ExecuteTime": {
     "end_time": "2017-11-02T21:50:08.202029Z",
     "start_time": "2017-11-02T21:50:08.103376Z"
    },
    "collapsed": false
   },
   "outputs": [
    {
     "data": {
      "text/html": [
       "<div>\n",
       "<style>\n",
       "    .dataframe thead tr:only-child th {\n",
       "        text-align: right;\n",
       "    }\n",
       "\n",
       "    .dataframe thead th {\n",
       "        text-align: left;\n",
       "    }\n",
       "\n",
       "    .dataframe tbody tr th {\n",
       "        vertical-align: top;\n",
       "    }\n",
       "</style>\n",
       "<table border=\"1\" class=\"dataframe\">\n",
       "  <thead>\n",
       "    <tr style=\"text-align: right;\">\n",
       "      <th></th>\n",
       "      <th>Home For</th>\n",
       "      <th>Home Against</th>\n",
       "      <th>Away For</th>\n",
       "      <th>Away Against</th>\n",
       "      <th>Home Games</th>\n",
       "      <th>Away Games</th>\n",
       "      <th>Points</th>\n",
       "    </tr>\n",
       "  </thead>\n",
       "  <tbody>\n",
       "    <tr>\n",
       "      <th>count</th>\n",
       "      <td>20.000000</td>\n",
       "      <td>20.000000</td>\n",
       "      <td>20.000000</td>\n",
       "      <td>20.000000</td>\n",
       "      <td>20.000000</td>\n",
       "      <td>20.000000</td>\n",
       "      <td>20.000000</td>\n",
       "    </tr>\n",
       "    <tr>\n",
       "      <th>mean</th>\n",
       "      <td>7.250000</td>\n",
       "      <td>5.700000</td>\n",
       "      <td>5.700000</td>\n",
       "      <td>7.250000</td>\n",
       "      <td>5.000000</td>\n",
       "      <td>5.000000</td>\n",
       "      <td>13.800000</td>\n",
       "    </tr>\n",
       "    <tr>\n",
       "      <th>std</th>\n",
       "      <td>4.447057</td>\n",
       "      <td>2.957595</td>\n",
       "      <td>3.628832</td>\n",
       "      <td>3.567027</td>\n",
       "      <td>0.324443</td>\n",
       "      <td>0.324443</td>\n",
       "      <td>5.872326</td>\n",
       "    </tr>\n",
       "    <tr>\n",
       "      <th>min</th>\n",
       "      <td>3.000000</td>\n",
       "      <td>0.000000</td>\n",
       "      <td>0.000000</td>\n",
       "      <td>3.000000</td>\n",
       "      <td>4.000000</td>\n",
       "      <td>4.000000</td>\n",
       "      <td>4.000000</td>\n",
       "    </tr>\n",
       "    <tr>\n",
       "      <th>25%</th>\n",
       "      <td>4.750000</td>\n",
       "      <td>4.000000</td>\n",
       "      <td>3.000000</td>\n",
       "      <td>4.000000</td>\n",
       "      <td>5.000000</td>\n",
       "      <td>5.000000</td>\n",
       "      <td>9.750000</td>\n",
       "    </tr>\n",
       "    <tr>\n",
       "      <th>50%</th>\n",
       "      <td>6.000000</td>\n",
       "      <td>6.000000</td>\n",
       "      <td>5.000000</td>\n",
       "      <td>7.000000</td>\n",
       "      <td>5.000000</td>\n",
       "      <td>5.000000</td>\n",
       "      <td>12.500000</td>\n",
       "    </tr>\n",
       "    <tr>\n",
       "      <th>75%</th>\n",
       "      <td>8.000000</td>\n",
       "      <td>7.500000</td>\n",
       "      <td>8.000000</td>\n",
       "      <td>9.250000</td>\n",
       "      <td>5.000000</td>\n",
       "      <td>5.000000</td>\n",
       "      <td>16.750000</td>\n",
       "    </tr>\n",
       "    <tr>\n",
       "      <th>max</th>\n",
       "      <td>21.000000</td>\n",
       "      <td>11.000000</td>\n",
       "      <td>14.000000</td>\n",
       "      <td>15.000000</td>\n",
       "      <td>6.000000</td>\n",
       "      <td>6.000000</td>\n",
       "      <td>28.000000</td>\n",
       "    </tr>\n",
       "  </tbody>\n",
       "</table>\n",
       "</div>"
      ],
      "text/plain": [
       "        Home For  Home Against   Away For  Away Against  Home Games  \\\n",
       "count  20.000000     20.000000  20.000000     20.000000   20.000000   \n",
       "mean    7.250000      5.700000   5.700000      7.250000    5.000000   \n",
       "std     4.447057      2.957595   3.628832      3.567027    0.324443   \n",
       "min     3.000000      0.000000   0.000000      3.000000    4.000000   \n",
       "25%     4.750000      4.000000   3.000000      4.000000    5.000000   \n",
       "50%     6.000000      6.000000   5.000000      7.000000    5.000000   \n",
       "75%     8.000000      7.500000   8.000000      9.250000    5.000000   \n",
       "max    21.000000     11.000000  14.000000     15.000000    6.000000   \n",
       "\n",
       "       Away Games     Points  \n",
       "count   20.000000  20.000000  \n",
       "mean     5.000000  13.800000  \n",
       "std      0.324443   5.872326  \n",
       "min      4.000000   4.000000  \n",
       "25%      5.000000   9.750000  \n",
       "50%      5.000000  12.500000  \n",
       "75%      5.000000  16.750000  \n",
       "max      6.000000  28.000000  "
      ]
     },
     "execution_count": 4,
     "metadata": {},
     "output_type": "execute_result"
    }
   ],
   "source": [
    "df.describe()"
   ]
  },
  {
   "cell_type": "markdown",
   "metadata": {},
   "source": [
    "None of the data is missing, which is a relief because I made this myself. We need to know the league average goals scored and conceded per game for both home and away teams, so we can sum the respective columns and divide by the number of games to get these."
   ]
  },
  {
   "cell_type": "code",
   "execution_count": 5,
   "metadata": {
    "ExecuteTime": {
     "end_time": "2017-11-02T21:50:08.274034Z",
     "start_time": "2017-11-02T21:50:08.250274Z"
    },
    "collapsed": false
   },
   "outputs": [
    {
     "name": "stdout",
     "output_type": "stream",
     "text": [
      " Home for average:  1.45 \n",
      " Home against average:  1.14 \n",
      " Away for average:  1.14 \n",
      " Away against average:  1.45 \n",
      "\n"
     ]
    }
   ],
   "source": [
    "home_for = df['Home For'].sum() / df['Home Games'].sum()\n",
    "home_against = df['Home Against'].sum() / df['Home Games'].sum()\n",
    "away_for = df['Away For'].sum() / df['Away Games'].sum()\n",
    "away_against = df['Away Against'].sum() / df['Away Games'].sum()\n",
    "\n",
    "print(\n",
    "    ' Home for average: ',\n",
    "    home_for,\n",
    "    '\\n',\n",
    "    'Home against average: ',\n",
    "    home_against,\n",
    "    '\\n',\n",
    "    'Away for average: ',\n",
    "    away_for,\n",
    "    '\\n',\n",
    "    'Away against average: ',\n",
    "    away_against,\n",
    "    '\\n' )"
   ]
  },
  {
   "cell_type": "markdown",
   "metadata": {},
   "source": [
    "We divided this by 5 because that is the average number of matches for both home and away. And happily the average number of home goals score is the same as the number of away goals conceded, and vice versa.\n",
    "\n",
    "Already we have enough information to run a rudimentary model for your standard home team against the standard away team, so let's try that.\n",
    "\n",
    "The Poisson probability distribution is a decent approximation here, if we assume that scoring a goal is an independent event, and that goals are scored at a constant rate throughout the match. In actual fact these assumptions are not quite true, but they will do for now. With these assumptions in place, we can work out the probability of k events happening by \n",
    "\n",
    "$$ P(k) = e^{\\lambda}\\frac{\\lambda^k}{k!} $$\n",
    "\n",
    "Where $\\lambda$ is the rate parameter, and k is a the number of events in the interval and is an integer (0,1,2,...)\n",
    "\n",
    "Now we could try and code this ourselves, but for a few reasons, we won't. Some clever bods have designed a stats library for python, so we can import scipy.stats.poisson and start to examine what we have."
   ]
  },
  {
   "cell_type": "code",
   "execution_count": 6,
   "metadata": {
    "ExecuteTime": {
     "end_time": "2017-11-02T21:50:08.323398Z",
     "start_time": "2017-11-02T21:50:08.318641Z"
    },
    "collapsed": true
   },
   "outputs": [],
   "source": [
    "from scipy.stats import poisson"
   ]
  },
  {
   "cell_type": "code",
   "execution_count": 7,
   "metadata": {
    "ExecuteTime": {
     "end_time": "2017-11-02T21:50:08.642315Z",
     "start_time": "2017-11-02T21:50:08.326954Z"
    },
    "collapsed": false
   },
   "outputs": [
    {
     "data": {
      "image/png": "[encoded data removed]",
      "text/plain": [
       "<matplotlib.figure.Figure at 0x11a30c4a8>"
      ]
     },
     "metadata": {},
     "output_type": "display_data"
    }
   ],
   "source": [
    "rates = [home_for,away_for] #rate parameters\n",
    "line_styles = ['-','--']\n",
    "labels = ['Home Goals','Away Goals']\n",
    "k = np.arange(0,10) #range of k values. 10+ goals never happens\n",
    "\n",
    "#make plot\n",
    "fig, ax = plt.subplots(figsize=(8,5))\n",
    "\n",
    "for rate,line,lab in zip(rates,line_styles,labels):\n",
    "    dist = poisson(rate)\n",
    "    plt.plot(k,dist.pmf(k),label = lab,linestyle=line,drawstyle='steps')\n",
    "plt.xlabel('Goals',size=14)\n",
    "plt.ylabel('Probability',size=14)\n",
    "plt.title('Probability of number of goals scored by Generic Teams in PL match',size=14)\n",
    "\n",
    "goals = np.arange(1,8)\n",
    "ax.xaxis.set(ticks = np.arange(0.5,len(goals)),ticklabels = goals)\n",
    "ax.grid(False)\n",
    "\n",
    "plt.xlim(0,7)\n",
    "plt.ylim(0,0.4)\n",
    "plt.legend(fontsize = 12)\n",
    "plt.show()"
   ]
  },
  {
   "cell_type": "markdown",
   "metadata": {},
   "source": [
    "As you can see, the two generic teams look to be evenly matched with the home team having a slight advantage. The probability of a generic team scoring more than 5 goals appears to be rather small, so we can terminate our calculations at k = 5. \n",
    "\n",
    "We can multiply the probabilities of each team scoring x number of goals and their opponents scoring y goals with a matrix multiplication and then plot a heatmap to see what is the most likely score."
   ]
  },
  {
   "cell_type": "code",
   "execution_count": 8,
   "metadata": {
    "ExecuteTime": {
     "end_time": "2017-11-02T21:50:09.040643Z",
     "start_time": "2017-11-02T21:50:08.757608Z"
    },
    "collapsed": false
   },
   "outputs": [
    {
     "data": {
      "image/png": "[encoded data removed]",
      "text/plain": [
       "<matplotlib.figure.Figure at 0x11a2f2940>"
      ]
     },
     "metadata": {},
     "output_type": "display_data"
    }
   ],
   "source": [
    "#Get numpy arrays with probabilities for goals up to 5\n",
    "hg = np.array([poisson(home_for).pmf(k) for k in np.arange(6)])\n",
    "ag = np.array([poisson(away_for).pmf(k) for k in np.arange(6)])\n",
    "\n",
    "#Multiply matrices to get probabilities of scores\n",
    "scores = np.outer(hg,ag)\n",
    "\n",
    "#Plot the heatmap\n",
    "sns.heatmap(scores,cmap='RdYlBu')\n",
    "plt.ylabel('Home Goals')\n",
    "plt.xlabel('Away Goals')\n",
    "plt.title('Probabilities for each scoreline')\n",
    "plt.show()\n"
   ]
  },
  {
   "cell_type": "markdown",
   "metadata": {},
   "source": [
    "Our heatmap shows that the most likely score is a 1-1 draw, with this result occuring a little over 10% of the time. This should hardly be surprising if we look back to the average number of goals scored, 1.45 and 1.14 for home and away respectively. However, as football fans, we know that this is not right: 1-1 is not the most common scoreline in the PL. Of course this is because some teams are stronger than others, and that is what we will start to look at now.\n",
    "\n",
    "A reasonable starting point for how strong a team is would be to calculate how their average goals per game compares to the league average. Let's take Manchester City's home goals scored and see how that compares to the league average."
   ]
  },
  {
   "cell_type": "code",
   "execution_count": 9,
   "metadata": {
    "ExecuteTime": {
     "end_time": "2017-11-02T21:50:09.156188Z",
     "start_time": "2017-11-02T21:50:09.140523Z"
    },
    "collapsed": false
   },
   "outputs": [
    {
     "data": {
      "text/plain": [
       "Team            Manchester City\n",
       "Home For                     21\n",
       "Home Against                  3\n",
       "Away For                     14\n",
       "Away Against                  3\n",
       "Home Games                    5\n",
       "Away Games                    5\n",
       "Points                       28\n",
       "Name: 1, dtype: object"
      ]
     },
     "execution_count": 9,
     "metadata": {},
     "output_type": "execute_result"
    }
   ],
   "source": [
    "df.loc[1]"
   ]
  },
  {
   "cell_type": "markdown",
   "metadata": {},
   "source": [
    "So we can see than Manchester City have scored 21 goals in their five home games, which we can work out in our heads as 4.2. If we then divide this by the league home average, we can see how much more likely Manchester City are to score a goal than the average team."
   ]
  },
  {
   "cell_type": "code",
   "execution_count": 10,
   "metadata": {
    "ExecuteTime": {
     "end_time": "2017-11-02T21:50:09.250145Z",
     "start_time": "2017-11-02T21:50:09.237281Z"
    },
    "collapsed": false
   },
   "outputs": [
    {
     "name": "stdout",
     "output_type": "stream",
     "text": [
      "4.2    (I told you so!)\n"
     ]
    },
    {
     "data": {
      "text/plain": [
       "2.896551724137931"
      ]
     },
     "execution_count": 10,
     "metadata": {},
     "output_type": "execute_result"
    }
   ],
   "source": [
    "city_home_for_avg = 21/5\n",
    "print(city_home_for_avg,'   (I told you so!)')\n",
    "mc_home_str_attack = city_home_for_avg/home_for\n",
    "mc_home_str_attack"
   ]
  },
  {
   "cell_type": "markdown",
   "metadata": {},
   "source": [
    "This value of 2.90 says that Man City are 190% more likely to score at home than the league average team. Already here we are seeing the problem with small sample sizes and outliers, but we shall press on. This Sunday, City take on Arsenal at the Etihad. How is Arsenal's defence away from home?"
   ]
  },
  {
   "cell_type": "code",
   "execution_count": 11,
   "metadata": {
    "ExecuteTime": {
     "end_time": "2017-11-02T21:50:09.308993Z",
     "start_time": "2017-11-02T21:50:09.299210Z"
    },
    "collapsed": false
   },
   "outputs": [
    {
     "data": {
      "text/plain": [
       "Team            Arsenal\n",
       "Home For             13\n",
       "Home Against          4\n",
       "Away For              6\n",
       "Away Against          9\n",
       "Home Games            5\n",
       "Away Games            5\n",
       "Points               19\n",
       "Name: 5, dtype: object"
      ]
     },
     "execution_count": 11,
     "metadata": {},
     "output_type": "execute_result"
    }
   ],
   "source": [
    "df.loc[5]"
   ]
  },
  {
   "cell_type": "code",
   "execution_count": 12,
   "metadata": {
    "ExecuteTime": {
     "end_time": "2017-11-02T21:50:09.394452Z",
     "start_time": "2017-11-02T21:50:09.381902Z"
    },
    "collapsed": false
   },
   "outputs": [
    {
     "name": "stdout",
     "output_type": "stream",
     "text": [
      "1.8\n"
     ]
    },
    {
     "data": {
      "text/plain": [
       "1.2413793103448276"
      ]
     },
     "execution_count": 12,
     "metadata": {},
     "output_type": "execute_result"
    }
   ],
   "source": [
    "ars_away_against = 9/5\n",
    "print(ars_away_against)\n",
    "ars_away_str_def = ars_away_against/away_against\n",
    "ars_away_str_def"
   ]
  },
  {
   "cell_type": "markdown",
   "metadata": {},
   "source": [
    "Not particularly good, Mr. Wenger. You concede an average of 1.8 goals away from home, 24% more goals than the average team. Let's multiply City's home attacking strength, Arsenal's away defensive strength, and the league average for home goals score to see how many City should expect to score on average."
   ]
  },
  {
   "cell_type": "code",
   "execution_count": 13,
   "metadata": {
    "ExecuteTime": {
     "end_time": "2017-11-02T21:50:09.485728Z",
     "start_time": "2017-11-02T21:50:09.482056Z"
    },
    "collapsed": false
   },
   "outputs": [],
   "source": [
    "mc_goals = mc_home_str_attack*ars_away_str_def*home_for"
   ]
  },
  {
   "cell_type": "markdown",
   "metadata": {},
   "source": [
    "According to our calculations, Manchester City will scora an average of 5.21 goals at home against Arsenal. This, to me, seems unlikely, but this is more a proof of concept for the time being, so we will go with it. We will do the same thing for Arsenal's predicted goals and then produce another heat map to see the most likely score like before."
   ]
  },
  {
   "cell_type": "code",
   "execution_count": 14,
   "metadata": {
    "ExecuteTime": {
     "end_time": "2017-11-02T21:50:09.959433Z",
     "start_time": "2017-11-02T21:50:09.557177Z"
    },
    "collapsed": false
   },
   "outputs": [
    {
     "data": {
      "image/png": "[encoded data removed]",
      "text/plain": [
       "<matplotlib.figure.Figure at 0x11a8345c0>"
      ]
     },
     "metadata": {},
     "output_type": "display_data"
    }
   ],
   "source": [
    "ars_away_for = 6/5\n",
    "ars_away_sr_at = ars_away_for/away_for\n",
    "\n",
    "mc_home_against = 3/5\n",
    "mc_home_str_def = mc_home_against/away_for\n",
    "\n",
    "ars_goals = ars_away_sr_at*mc_home_str_def*away_for\n",
    "\n",
    "#PMFs for the two teams\n",
    "mc_dist = np.array([poisson(mc_goals).pmf(k) for k in np.arange(10)])\n",
    "ars_dist = np.array([poisson(ars_goals).pmf(k) for k in np.arange(10)])\n",
    "#Score probability matrix\n",
    "scores = np.outer(mc_dist,ars_dist)\n",
    "\n",
    "#Heat Map\n",
    "sns.heatmap(scores,cmap='RdYlBu')\n",
    "plt.ylabel('Man City Goals')\n",
    "plt.xlabel('Arsenal Goals')\n",
    "plt.title('Man City vs Arsenal Score Prediction')\n",
    "plt.show()"
   ]
  },
  {
   "cell_type": "markdown",
   "metadata": {},
   "source": [
    "Looking at this heatmap, it seems that our Poisson analysis of this match is telling us that City are more likely to win 9-0 than Arsenal are to win by any score. It's also telling use that the most likely score is a 5-0 home victory at about 9%. Let's see the exact number and see what odds we can get on a 5-0 City victory at Betfair."
   ]
  },
  {
   "cell_type": "code",
   "execution_count": 15,
   "metadata": {
    "ExecuteTime": {
     "end_time": "2017-11-02T21:50:10.054031Z",
     "start_time": "2017-11-02T21:50:10.038798Z"
    },
    "collapsed": false
   },
   "outputs": [
    {
     "name": "stdout",
     "output_type": "stream",
     "text": [
      "The probability of City winning 5-0 is: 9.28912685868 %\n"
     ]
    }
   ],
   "source": [
    "print('The probability of City winning 5-0 is:',mc_dist[5]*ars_dist[0]*100,'%')"
   ]
  },
  {
   "cell_type": "markdown",
   "metadata": {},
   "source": [
    "<img src=\"odds.png\">"
   ]
  },
  {
   "cell_type": "markdown",
   "metadata": {
    "collapsed": true
   },
   "source": [
    "So a Man City 5-0 we can get odds of 33/1. We can work out the implied probability of these odds by calculating 100 x denominator/(denominator+numerator). Or: \n",
    "\n",
    "$$ \\frac{1}{34} \\times 100 $$"
   ]
  },
  {
   "cell_type": "code",
   "execution_count": 16,
   "metadata": {
    "ExecuteTime": {
     "end_time": "2017-11-02T21:57:55.660345Z",
     "start_time": "2017-11-02T21:57:55.655081Z"
    },
    "collapsed": false
   },
   "outputs": [
    {
     "name": "stdout",
     "output_type": "stream",
     "text": [
      "Implied probability = 2.9411764705882355 %\n"
     ]
    }
   ],
   "source": [
    "print('Implied probability =',100*1/34,'%')"
   ]
  },
  {
   "cell_type": "markdown",
   "metadata": {},
   "source": [
    "The bookmakers think there's a 2.94% chance of City winning 5-0.\\* if we believe our model, we can extract a huge edge over the bookmakers here. For what it's worth, this is a very simplistic model, and I would definitely not be willing to bet the farm on it. Despite this, in tomorrow's update we can look at extending this model for all the teams in the league and therefore for any fixture. And then in future, as and when more data comes in we can start improving our predictions.\n",
    "\n",
    "\\* They actually think there's less chance of this happening than 2.94%, but they make their money by setting lines that are not accurate. This is often known as 'juice' in gambling circles."
   ]
  },
  {
   "cell_type": "code",
   "execution_count": null,
   "metadata": {
    "collapsed": true
   },
   "outputs": [],
   "source": []
  }
 ],
 "metadata": {
  "kernelspec": {
   "display_name": "Python 3",
   "language": "python",
   "name": "python3"
  },
  "language_info": {
   "codemirror_mode": {
    "name": "ipython",
    "version": 3
   },
   "file_extension": ".py",
   "mimetype": "text/x-python",
   "name": "python",
   "nbconvert_exporter": "python",
   "pygments_lexer": "ipython3",
   "version": "3.6.0"
  },
  "varInspector": {
   "cols": {
    "lenName": 16,
    "lenType": 16,
    "lenVar": 40
   },
   "kernels_config": {
    "python": {
     "delete_cmd_postfix": "",
     "delete_cmd_prefix": "del ",
     "library": "var_list.py",
     "varRefreshCmd": "print(var_dic_list())"
    },
    "r": {
     "delete_cmd_postfix": ") ",
     "delete_cmd_prefix": "rm(",
     "library": "var_list.r",
     "varRefreshCmd": "cat(var_dic_list()) "
    }
   },
   "types_to_exclude": [
    "module",
    "function",
    "builtin_function_or_method",
    "instance",
    "_Feature"
   ],
   "window_display": false
  }
 },
 "nbformat": 4,
 "nbformat_minor": 2
}
